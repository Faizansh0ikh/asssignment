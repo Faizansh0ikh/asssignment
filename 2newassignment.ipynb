{
 "cells": [
  {
   "cell_type": "markdown",
   "id": "0099b955-3004-4b27-ace4-7bf0be151840",
   "metadata": {},
   "source": [
    "1. What is an exception in python ? difference between exception and syntax error."
   ]
  },
  {
   "cell_type": "markdown",
   "id": "36d7779d-b485-4b0f-ad5b-b8076c393675",
   "metadata": {},
   "source": [
    "Exception is a event that occur during run time of program and it disturb the normal flow of program.\n",
    "\n",
    "exception error take more time than syntax error to detect because it occur during run time while syntax error takes less time than exception because it occur before run\n",
    "and syntax error is nothing but single or many mistakes in codes that violates python code laws."
   ]
  },
  {
   "cell_type": "markdown",
   "id": "3a3fd740-91a8-4178-a1b3-4ccafe8cf0d1",
   "metadata": {},
   "source": [
    "2. What happend when an exception is not handled ? Explain with an examle."
   ]
  },
  {
   "cell_type": "markdown",
   "id": "ded653db-734a-446d-a116-7657b0de14ae",
   "metadata": {},
   "source": [
    "When exception is not handled it will stop the program and starts showing an error massage of screen."
   ]
  },
  {
   "cell_type": "code",
   "execution_count": null,
   "id": "b2c8bc85-0fe1-4889-b540-e472d40b05c1",
   "metadata": {},
   "outputs": [],
   "source": [
    "num1 = eval(input(\"Enter Number: \"))\n",
    "num2 = eval(input(\"Enter Number: \"))\n",
    "\n",
    "try : \n",
    "    num3 = num1/num2\n",
    "except :\n",
    "    print(\"Zero Division Error present \")"
   ]
  },
  {
   "cell_type": "markdown",
   "id": "625fc631-97e7-40e2-940a-4428df3dcf36",
   "metadata": {},
   "source": [
    "3. Which python statements are used to catch and handle exceptions ? explain with an example."
   ]
  },
  {
   "cell_type": "markdown",
   "id": "7199e9d5-f3e3-4d4a-92e7-71152afe1a11",
   "metadata": {},
   "source": [
    "try is used to catch the exception and except is used to handle it."
   ]
  },
  {
   "cell_type": "code",
   "execution_count": 11,
   "id": "f43ce76b-c244-4abf-9cfb-c791b3ce3077",
   "metadata": {},
   "outputs": [
    {
     "name": "stdin",
     "output_type": "stream",
     "text": [
      "Enter Number:  12\n",
      "Enter Number:  0\n"
     ]
    },
    {
     "name": "stdout",
     "output_type": "stream",
     "text": [
      "Zero Division Error present \n"
     ]
    }
   ],
   "source": [
    "num1 = eval(input(\"Enter Number: \"))\n",
    "num2 = eval(input(\"Enter Number: \"))\n",
    "\n",
    "try : \n",
    "    num3 = num1/num2\n",
    "except :\n",
    "    print(\"Zero Division Error present \")"
   ]
  },
  {
   "cell_type": "markdown",
   "id": "a6c081d9-d209-4e2e-8ddb-86897cc70c2b",
   "metadata": {},
   "source": [
    "4. Explain With An Example:\n",
    "    try and else\n",
    "    finally\n",
    "    raise"
   ]
  },
  {
   "cell_type": "code",
   "execution_count": 15,
   "id": "4c51c89e-6968-4496-889c-3fdaf33c1b14",
   "metadata": {},
   "outputs": [],
   "source": [
    "def division(a,b):\n",
    "    try :\n",
    "        result = a/b\n",
    "        \n",
    "    except ZeroDivisionError:\n",
    "        print(\"Error is detected\")\n",
    "    else:\n",
    "        print(\"successfull\")\n",
    "    finally:\n",
    "         print(\"block execute\")"
   ]
  },
  {
   "cell_type": "code",
   "execution_count": 16,
   "id": "ba2cb6c3-b399-49c7-b9a5-789395b8dafc",
   "metadata": {},
   "outputs": [
    {
     "name": "stdout",
     "output_type": "stream",
     "text": [
      "Error is detected\n",
      "block execute\n"
     ]
    }
   ],
   "source": [
    "num1 = 10\n",
    "num2 = 0\n",
    "\n",
    "num3 = division(num1,num2)"
   ]
  },
  {
   "cell_type": "code",
   "execution_count": 17,
   "id": "031f3962-a744-4ece-9b04-ab503992cdd7",
   "metadata": {},
   "outputs": [
    {
     "name": "stdout",
     "output_type": "stream",
     "text": [
      "Error is detected\n",
      "block execute\n"
     ]
    }
   ],
   "source": [
    "num1 = 10\n",
    "num2 = 1\n",
    "\n",
    "num3 = division(num1,num2)"
   ]
  },
  {
   "cell_type": "markdown",
   "id": "e182b51a-410f-40c6-aa97-b51842e8071e",
   "metadata": {},
   "source": [
    "5. What are custom exceptions in python ? why do we need custom exception ? explain with an example."
   ]
  },
  {
   "cell_type": "code",
   "execution_count": 2,
   "id": "d8ea2823-f627-41c0-ba5b-1994535b1ec9",
   "metadata": {},
   "outputs": [
    {
     "data": {
      "text/plain": [
       "1"
      ]
     },
     "execution_count": 2,
     "metadata": {},
     "output_type": "execute_result"
    }
   ],
   "source": [
    "Custom exceptions are user define exception in python, it provides most clear information of about exception in python."
   ]
  },
  {
   "cell_type": "code",
   "execution_count": 3,
   "id": "55750719-f754-40be-8f73-8f37218e5370",
   "metadata": {},
   "outputs": [
    {
     "name": "stdin",
     "output_type": "stream",
     "text": [
      "Enter Age: 19\n"
     ]
    },
    {
     "name": "stdout",
     "output_type": "stream",
     "text": [
      "person is eligible for vote\n"
     ]
    }
   ],
   "source": [
    "class AgeError(Exception):\n",
    "    \"raised when person age is less than 18\"\n",
    "    pass\n",
    "\n",
    "try :\n",
    "    age = eval(input(\"Enter Age:\"))\n",
    "    if age< 18:\n",
    "        raise AgeError\n",
    "\n",
    "except AgeError:\n",
    "     print(\"Person is not eligible for voting in election\")\n",
    "else :\n",
    "      print(\"person is eligible for vote\")               \n",
    "                     \n",
    "                     \n",
    "                     "
   ]
  },
  {
   "cell_type": "markdown",
   "id": "55970095-bbc5-41b6-b303-959afc31e842",
   "metadata": {},
   "source": [
    "6. create custome exception class. use this class to handle an exception.\n"
   ]
  },
  {
   "cell_type": "code",
   "execution_count": 7,
   "id": "245c1ddf-0965-4813-8d9c-f7cd95fdae81",
   "metadata": {},
   "outputs": [
    {
     "name": "stdin",
     "output_type": "stream",
     "text": [
      "Enter Your Age:  18\n"
     ]
    },
    {
     "name": "stdout",
     "output_type": "stream",
     "text": [
      "Marriage is legal\n"
     ]
    }
   ],
   "source": [
    "class MarriageError(Exception):\n",
    "    \"If person is below 18 then marriage is illegal\"\n",
    "    pass\n",
    "\n",
    "try :\n",
    "    age = eval(input(\"Enter Your Age: \"))\n",
    "    if age < 18:\n",
    "           raise MarriageError\n",
    "    else:\n",
    "        print(\"Marriage is legal\")\n",
    "except MarriageError:\n",
    "                     print(\"Marriage Is illegal\")\n",
    "\n",
    "                     "
   ]
  },
  {
   "cell_type": "markdown",
   "id": "c51e4e53-856a-459a-ab57-3da4b4ade04e",
   "metadata": {},
   "source": [
    "Q5. Explain ImportError. What is ModuleNotFoundError?"
   ]
  },
  {
   "cell_type": "markdown",
   "id": "8107c61f-0527-47b1-9c1b-99ff1fa6de2c",
   "metadata": {},
   "source": [
    "In Python, ImportError is an exception that is raised when an import statement fails to import a module or when there is a problem with importing a module. It is a general exception for all import-related errors."
   ]
  },
  {
   "cell_type": "markdown",
   "id": "6e6e5116-c037-4345-b094-c091e92b1012",
   "metadata": {},
   "source": [
    "ModuleNotFoundError. It is a subclass of ImportError introduced in Python. \n",
    "The purpose of ModuleNotFoundError is to specifically indicate that a module could not be found during the import process."
   ]
  },
  {
   "cell_type": "markdown",
   "id": "f6605941-6893-44db-9fec-864602622cd0",
   "metadata": {},
   "source": [
    "Q6. List down some best practices for exception handling in python."
   ]
  },
  {
   "cell_type": "markdown",
   "id": "02a85334-1095-4d1f-880c-3d1db85bcbca",
   "metadata": {},
   "source": [
    "\n",
    "1. **Be Specific with Exception Handling:** Catch exceptions at the appropriate level of granularity. Use specific exception types whenever possible instead of catching the generic `Exception` class. This allows for more targeted handling and avoids unintentionally catching and hiding unexpected exceptions.\n",
    "\n",
    "2. **Use Multiple Except Blocks:** Use multiple `except` blocks to handle different types of exceptions separately. This allows you to provide specific error handling logic for each exception type, making your code more robust and easier to understand.\n",
    "\n",
    "3. **Avoid Broad `except` Statements:** Avoid using broad `except` statements that catch all exceptions, such as `except Exception:`. Catching all exceptions can mask errors and make debugging more difficult. It is better to explicitly catch only the exceptions you expect and handle them accordingly.\n",
    "\n",
    "4. **Cleanup with `finally`:** Use the `finally` block to perform necessary cleanup tasks, such as closing files or releasing resources, regardless of whether an exception was raised or not. This ensures that cleanup operations are always executed, even in the presence of exceptions.\n",
    "\n",
    "5. **Don't Swallow Exceptions:** Avoid silently ignoring exceptions without any handling or logging. It is important to handle exceptions appropriately, whether by logging the error, notifying the user, or taking corrective actions. Swallowing exceptions can make it difficult to diagnose and fix issues in your code.\n",
    "\n",
    "6. **Reraise Exceptions:**\n",
    "   - If you catch an exception but cannot handle it properly at the current level, consider reraising the exception using `raise` without any arguments. This allows the exception to propagate up the call stack for higher-level handlers to handle it appropriately.\n",
    "   - If you need to catch and handle an exception but still want to preserve the original exception's stack trace, you can use `raise new_exception from original_exception`.\n",
    "\n",
    "7. **Use `try-except-else` Blocks Sparingly:** The `try-except-else` block is useful when you want to execute some code only if no exceptions occur. However, using it sparingly can help keep the code logic clear and prevent unnecessary nesting. If possible, refactor your code to reduce the need for `else` blocks.\n",
    "\n",
    "8. **Use Custom Exceptions:** When appropriate, create custom exceptions to handle specific error conditions in your code. Custom exceptions can provide more meaningful error messages and help differentiate between different types of errors. This promotes code clarity and facilitates better error handling.\n",
    "\n",
    "9. **Logging and Error Reporting:** Use logging frameworks like the `logging` module to log exceptions and error messages. Logging provides a systematic way to track and analyze exceptions, making it easier to debug and monitor your application's behavior. Additionally, consider integrating error reporting tools or services to gather and analyze exception data in production environments.\n",
    "\n",
    "10. **Keep Exception Handling Localized:** Place exception handling code close to the code that may raise the exception. This makes it easier to understand the context of the exception and reduces the chances of inadvertently catching and handling unrelated exceptions."
   ]
  },
  {
   "cell_type": "code",
   "execution_count": null,
   "id": "7670255a-a788-4ddb-9dd0-d73c06ed3c8b",
   "metadata": {},
   "outputs": [],
   "source": []
  }
 ],
 "metadata": {
  "kernelspec": {
   "display_name": "Python 3 (ipykernel)",
   "language": "python",
   "name": "python3"
  },
  "language_info": {
   "codemirror_mode": {
    "name": "ipython",
    "version": 3
   },
   "file_extension": ".py",
   "mimetype": "text/x-python",
   "name": "python",
   "nbconvert_exporter": "python",
   "pygments_lexer": "ipython3",
   "version": "3.10.8"
  }
 },
 "nbformat": 4,
 "nbformat_minor": 5
}
